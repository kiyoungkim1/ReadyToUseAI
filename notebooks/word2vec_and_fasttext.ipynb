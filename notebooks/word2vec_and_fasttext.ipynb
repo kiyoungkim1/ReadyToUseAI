{
  "nbformat": 4,
  "nbformat_minor": 0,
  "metadata": {
    "colab": {
      "name": "word2vec_and_fasttext.ipynb",
      "provenance": [],
      "collapsed_sections": [],
      "authorship_tag": "ABX9TyNmmdMPnlhJZISg8G/ZD5bY",
      "include_colab_link": true
    },
    "kernelspec": {
      "name": "python3",
      "display_name": "Python 3"
    }
  },
  "cells": [
    {
      "cell_type": "markdown",
      "metadata": {
        "id": "view-in-github",
        "colab_type": "text"
      },
      "source": [
        "<a href=\"https://colab.research.google.com/github/kiyoungkim1/ReadyToUseAI/blob/main/notebooks/word2vec_and_fasttext.ipynb\" target=\"_parent\"><img src=\"https://colab.research.google.com/assets/colab-badge.svg\" alt=\"Open In Colab\"/></a>"
      ]
    },
    {
      "cell_type": "markdown",
      "metadata": {
        "id": "EmJDckweJu_V"
      },
      "source": [
        "# 환경 준비\r\n",
        "1. 라이브러리 다운로드\r\n",
        "2. 네이버 영화평을 텍스트파일을 다운로드합니다 (파일보기 +  새로고침 후 확인)\r\n",
        "\r\n",
        "**자체 데이터셋을 사용할 경우 한 문장이 한줄에 들어가는 파일(아래 예시 참조)로 dataset.txt로 저장 후 기존 파일을 덮어쓰기 하면 됩니다.**\r\n",
        "\r\n",
        "```\r\n",
        "영화가 재밌다.     \r\n",
        "이 영화 추천해요.     \r\n",
        "지루한 영화였습니다.\r\n",
        "...  \r\n",
        "```"
      ]
    },
    {
      "cell_type": "code",
      "metadata": {
        "id": "ceUDoT3ZEfWB"
      },
      "source": [
        "!git clone https://github.com/kiyoungkim1/ReadyToUseAI\r\n",
        "\r\n",
        "from ReadyToUseAI.src import make_sample_dataset, word2vec, fasttext\r\n",
        "make_sample_dataset.nsmc(mode='train', text_only=True)"
      ],
      "execution_count": null,
      "outputs": []
    },
    {
      "cell_type": "markdown",
      "metadata": {
        "id": "Y2150z24Na2-"
      },
      "source": [
        "# [Training] WORD2VEC or FASTTEXT (약 1분 소요)\r\n",
        "1. dataset.txt 파일은 한 줄당 한문장을 포함합니다. 이 중 글자수가 10자 이하인 것은 제외하도록 설정하였습니다.\r\n",
        "2. 저장시 용량이 클 경우 여러 파일로 저장될 수 있습니다. 외부에서 사용하시려면 저장된 모든파일을 옮겨 한 폴더에 넣어야 하며, 모델을 불러올 때는 대표이름 (아래 save_name에 있는 word2vec_model이나 fasttext_model을 적으시면 됩니다.\r\n",
        "3. 데이터셋이 큰 경우 (수백 MB 이상) 아래 변수중 size를 300, window를 5로 키우시면 시간은 오래 걸리지만 성능은 좋아집니다."
      ]
    },
    {
      "cell_type": "code",
      "metadata": {
        "id": "JNkyff8jK9Av"
      },
      "source": [
        "# word2vec training\r\n",
        "word2vec.apply(data_path='dataset.txt', save_name='word2vec_model', size=100, window=3, min_count=2, iter=10)"
      ],
      "execution_count": null,
      "outputs": []
    },
    {
      "cell_type": "code",
      "metadata": {
        "id": "dOVNvLz0LlT8"
      },
      "source": [
        "# fasttext training\r\n",
        "fasttext.apply(data_path='dataset.txt', save_name='fasttext_model', size=100, window=3, min_count=2, iter=10)"
      ],
      "execution_count": null,
      "outputs": []
    },
    {
      "cell_type": "markdown",
      "metadata": {
        "id": "mIiiPTYtOmcF"
      },
      "source": [
        "# [Inference]"
      ]
    },
    {
      "cell_type": "code",
      "metadata": {
        "id": "3jZ5DtJmNLr-"
      },
      "source": [
        "# word2vec inference\r\n",
        "from gensim.models import Word2Vec\r\n",
        "\r\n",
        "# 모델 불러오기\r\n",
        "w2v = Word2Vec.load('word2vec_model')\r\n",
        "\r\n",
        "# 유사단어 찾기\r\n",
        "w2v.wv.most_similar('이제까지')"
      ],
      "execution_count": null,
      "outputs": []
    },
    {
      "cell_type": "code",
      "metadata": {
        "id": "1YrcrbHYRX17"
      },
      "source": [
        "# fasttext inference\r\n",
        "from gensim.models import FastText\r\n",
        "\r\n",
        "# 모델 불러오기\r\n",
        "fasttext = FastText.load('fasttext_model')\r\n",
        "\r\n",
        "# 유사단어 찾기\r\n",
        "fasttext.wv.most_similar('이제까지')"
      ],
      "execution_count": null,
      "outputs": []
    }
  ]
}
