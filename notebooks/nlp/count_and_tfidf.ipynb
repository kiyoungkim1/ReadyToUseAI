{
  "nbformat": 4,
  "nbformat_minor": 0,
  "metadata": {
    "colab": {
      "name": "Untitled0.ipynb",
      "provenance": [],
      "include_colab_link": true
    },
    "kernelspec": {
      "name": "python3",
      "display_name": "Python 3"
    }
  },
  "cells": [
    {
      "cell_type": "markdown",
      "metadata": {
        "id": "view-in-github",
        "colab_type": "text"
      },
      "source": [
        "<a href=\"https://colab.research.google.com/github/kiyoungkim1/ReadyToUseAI/blob/main/notebooks/nlp/count_and_tfidf.ipynb\" target=\"_parent\"><img src=\"https://colab.research.google.com/assets/colab-badge.svg\" alt=\"Open In Colab\"/></a>"
      ]
    },
    {
      "cell_type": "markdown",
      "metadata": {
        "id": "EmJDckweJu_V"
      },
      "source": [
        "# 1. 환경 준비\n",
        "1. 라이브러리 다운로드\n",
        "2. 3줄짜리 간단한 데이터셋(dataset.txt)이 만들어집니다. (파일보기 +  새로고침 후 확인)\n",
        "\n",
        "**자체 데이터셋을 사용할 경우 한 문장이 한줄에 들어가는 파일로 dataset.txt로 저장 후 기존 파일을 덮어쓰기 하면 됩니다.**"
      ]
    },
    {
      "cell_type": "code",
      "metadata": {
        "id": "yAbZ99ufAUus",
        "outputId": "fe42724e-899d-446e-d73a-4d5c282ec91d",
        "colab": {
          "base_uri": "https://localhost:8080/"
        }
      },
      "source": [
        "!git clone https://github.com/kiyoungkim1/ReadyToUseAI\n",
        "\n",
        "from ReadyToUseAI.src.nlp import make_sample_dataset, count, tfidf\n",
        "make_sample_dataset.simple()"
      ],
      "execution_count": 3,
      "outputs": [
        {
          "output_type": "stream",
          "text": [
            "fatal: destination path 'ReadyToUseAI' already exists and is not an empty directory.\n"
          ],
          "name": "stdout"
        },
        {
          "output_type": "execute_result",
          "data": {
            "text/plain": [
              "['학교에 가서 수업을 들었다. 학교에 간건 오랜만이다.', '학교에 가서 친구 얘기를 들었다.', '내일 가서 뭐 먹지?']"
            ]
          },
          "metadata": {
            "tags": []
          },
          "execution_count": 3
        }
      ]
    },
    {
      "cell_type": "markdown",
      "metadata": {
        "id": "pEPi_qnDK577"
      },
      "source": [
        "# 2.1. COUNT or TFIDF 실행"
      ]
    },
    {
      "cell_type": "code",
      "metadata": {
        "id": "81DaDwtHH0sG"
      },
      "source": [
        "# 단어 빈도수를 계산 후 결과를 엑셀파일로 저장할 경우 실행\r\n",
        "\r\n",
        "df, _ = count.apply(dataset_path='dataset.txt', save_path='count.xlsx')\r\n",
        "df"
      ],
      "execution_count": null,
      "outputs": []
    },
    {
      "cell_type": "code",
      "metadata": {
        "id": "80bH9LIWJmZb"
      },
      "source": [
        "# TFIDF를 계산 후 결과를 엑셀파일로 저장할 경우 실행\r\n",
        "\r\n",
        "df, _ = tfidf.apply(dataset_path='dataset.txt', save_path='tfidf.xlsx')\r\n",
        "df"
      ],
      "execution_count": null,
      "outputs": []
    },
    {
      "cell_type": "markdown",
      "metadata": {
        "id": "SDkh8OVRNmOo"
      },
      "source": [
        "# 2.2. 문장 유사도 구하기\r\n",
        "2.1.을 실행할 필요없이 바로 실행해도 된다.    \r\n",
        "text에 원하는 문장을 넣고 실행하면, 해당 문장과 가장 유사한 문장을 dataset.txt에서 찾아 순서대로 보여준다."
      ]
    },
    {
      "cell_type": "code",
      "metadata": {
        "id": "sF57eE6XNmsH"
      },
      "source": [
        "# 단어 빈도수를 계산 후 아래의 text와 유사한 문장 고르기\r\n",
        "\r\n",
        "text = '학교 가서'\r\n",
        "df = count.find_similar_sentence(text, dataset_path='dataset.txt', save_path='count_similarity.xlsx')\r\n",
        "df"
      ],
      "execution_count": null,
      "outputs": []
    },
    {
      "cell_type": "code",
      "metadata": {
        "id": "fFFMZoFmOAaW"
      },
      "source": [
        "# 단어 빈도수를 계산 후 아래의 text와 유사한 문장 고르기\r\n",
        "\r\n",
        "text = '학교 가서'\r\n",
        "df = tfidf.find_similar_sentence(text, dataset_path='dataset.txt', save_path='tfidf_similarity.xlsx')\r\n",
        "df"
      ],
      "execution_count": null,
      "outputs": []
    }
  ]
}