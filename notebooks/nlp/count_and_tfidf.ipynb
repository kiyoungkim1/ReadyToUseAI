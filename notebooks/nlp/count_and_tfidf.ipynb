{
 "nbformat": 4,
 "nbformat_minor": 0,
 "metadata": {
  "colab": {
   "name": "Untitled0.ipynb",
   "provenance": [],
   "authorship_tag": "ABX9TyN2iyvMzctuXtgu6FnO9sCi",
   "include_colab_link": true
  },
  "kernelspec": {
   "name": "python3",
   "display_name": "Python 3"
  }
 },
 "cells": [
  {
   "cell_type": "markdown",
   "metadata": {
    "id": "view-in-github",
    "colab_type": "text"
   },
   "source": [
    "<a href=\"https://colab.research.google.com/github/kiyoungkim1/ReadyToUseAI/blob/main/notebooks/nlp/count_and_tfidf.ipynb\" target=\"_parent\"><img src=\"https://colab.research.google.com/assets/colab-badge.svg\" alt=\"Open In Colab\"/></a>"
   ]
  },
  {
   "cell_type": "markdown",
   "metadata": {
    "id": "EmJDckweJu_V"
   },
   "source": [
    "# 환경 준비\n",
    "1. 라이브러리 다운로드\n",
    "2. 3줄짜리 간단한 데이터셋(dataset.txt)이 만들어집니다. (파일보기 +  새로고침 후 확인)\n",
    "\n",
    "**자체 데이터셋을 사용할 경우 한 문장이 한줄에 들어가는 파일로 dataset.txt로 저장 후 기존 파일을 덮어쓰기 하면 됩니다.**"
   ]
  },
  {
   "cell_type": "code",
   "metadata": {
    "id": "yAbZ99ufAUus"
   },
   "source": [
    "!git clone https://github.com/kiyoungkim1/ReadyToUseAI\n",
    "\n",
    "from ReadyToUseAI.src.nlp import make_sample_dataset, count, tfidf\n",
    "make_sample_dataset.simple()"
   ],
   "execution_count": null,
   "outputs": []
  },
  {
   "cell_type": "markdown",
   "metadata": {
    "id": "pEPi_qnDK577"
   },
   "source": [
    "# COUNT or TFIDF 실행"
   ]
  },
  {
   "cell_type": "code",
   "metadata": {
    "id": "81DaDwtHH0sG"
   },
   "source": [
    "# 단어 빈도수를 계산 후 결과를 엑셀파일로 저장할 경우 실행\r\n",
    "\r\n",
    "count.apply(dataset_path='dataset.txt', save_path='count.xlsx')"
   ],
   "execution_count": null,
   "outputs": []
  },
  {
   "cell_type": "code",
   "metadata": {
    "id": "80bH9LIWJmZb"
   },
   "source": [
    "# TFIDF를 계산 후 결과를 엑셀파일로 저장할 경우 실행\r\n",
    "\r\n",
    "tfidf.apply(dataset_path='dataset.txt', save_path='tfidf.xlsx')"
   ],
   "execution_count": null,
   "outputs": []
  }
 ]
}