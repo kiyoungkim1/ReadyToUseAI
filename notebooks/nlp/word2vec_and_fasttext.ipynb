{
  "nbformat": 4,
  "nbformat_minor": 0,
  "metadata": {
    "colab": {
      "name": "word2vec_and_fasttext.ipynb",
      "provenance": [],
      "collapsed_sections": [],
      "toc_visible": true,
      "include_colab_link": true
    },
    "kernelspec": {
      "name": "python3",
      "display_name": "Python 3"
    }
  },
  "cells": [
    {
      "cell_type": "markdown",
      "metadata": {
        "id": "view-in-github",
        "colab_type": "text"
      },
      "source": [
        "<a href=\"https://colab.research.google.com/github/kiyoungkim1/ReadyToUseAI/blob/main/notebooks/nlp/word2vec_and_fasttext.ipynb\" target=\"_parent\"><img src=\"https://colab.research.google.com/assets/colab-badge.svg\" alt=\"Open In Colab\"/></a>"
      ]
    },
    {
      "cell_type": "markdown",
      "metadata": {
        "id": "Y2150z24Na2-"
      },
      "source": [
        "# 1. 직접 학습 후 사용하기"
      ]
    },
    {
      "cell_type": "markdown",
      "metadata": {
        "id": "EmJDckweJu_V"
      },
      "source": [
        "## 1-1)환경 준비\n",
        "1. 라이브러리 다운로드\n",
        "2. 네이버 영화평을 텍스트파일을 다운로드합니다 (파일보기 +  새로고침 후 확인)\n",
        "\n",
        "**자체 데이터셋을 사용할 경우 한 문장이 한줄에 들어가는 파일(아래 예시 참조)로 dataset.txt로 저장 후 기존 파일을 덮어쓰기 하면 됩니다.**\n",
        "\n",
        "```\n",
        "영화가 재밌다.     \n",
        "이 영화 추천해요.     \n",
        "지루한 영화였습니다.\n",
        "...  \n",
        "```"
      ]
    },
    {
      "cell_type": "code",
      "metadata": {
        "id": "ceUDoT3ZEfWB"
      },
      "source": [
        "!pip install --upgrade -q gensim==3.8.3\n",
        "!git clone https://github.com/kiyoungkim1/ReadyToUseAI\n",
        "\n",
        "from ReadyToUseAI.src.nlp import make_sample_dataset, word2vec_and_fasttext\n",
        "make_sample_dataset.nsmc(mode='train', text_only=True)"
      ],
      "execution_count": 1,
      "outputs": []
    },
    {
      "cell_type": "markdown",
      "metadata": {
        "id": "FGn0IpZB5xDY"
      },
      "source": [
        "## 1-2) [Training] WORD2VEC or FASTTEXT (약 1분 소요)\n",
        "1. dataset.txt 파일은 한 줄당 한문장을 포함합니다. 이 중 글자수가 10자 이하인 것은 제외하도록 설정하였습니다.\n",
        "2. 저장시 용량이 클 경우 여러 파일로 저장될 수 있습니다. 외부에서 사용하시려면 저장된 모든파일을 옮겨 한 폴더에 넣어야 하며, 모델을 불러올 때는 대표이름 (아래 save_name에 있는 word2vec_model이나 fasttext_model을 적으시면 됩니다.\n",
        "3. 데이터셋이 큰 경우 (수백 MB 이상) 아래 변수중 size를 300, window를 5로 키우시면 시간은 오래 걸리지만 성능은 좋아집니다."
      ]
    },
    {
      "cell_type": "code",
      "metadata": {
        "id": "JNkyff8jK9Av"
      },
      "source": [
        "# word2vec training\n",
        "word2vec_and_fasttext.apply(data_path='dataset.txt', type='word2vec', save_name='word2vec_model', size=100, window=3, min_count=2, iter=10)"
      ],
      "execution_count": null,
      "outputs": []
    },
    {
      "cell_type": "code",
      "metadata": {
        "id": "dOVNvLz0LlT8"
      },
      "source": [
        "# fasttext training\n",
        "word2vec_and_fasttext.apply(data_path='dataset.txt', type='fasttext', save_name='fasttext_model', size=100, window=3, min_count=2, iter=10)"
      ],
      "execution_count": null,
      "outputs": []
    },
    {
      "cell_type": "markdown",
      "metadata": {
        "id": "mIiiPTYtOmcF"
      },
      "source": [
        "## 1-3) [Inference]"
      ]
    },
    {
      "cell_type": "code",
      "metadata": {
        "id": "3jZ5DtJmNLr-"
      },
      "source": [
        "# word2vec inference\n",
        "from gensim.models import Word2Vec\n",
        "\n",
        "# 모델 불러오기\n",
        "w2v = Word2Vec.load('word2vec_model')\n",
        "\n",
        "# 유사단어 찾기\n",
        "w2v.wv.most_similar('이제까지')"
      ],
      "execution_count": null,
      "outputs": []
    },
    {
      "cell_type": "code",
      "metadata": {
        "id": "1YrcrbHYRX17"
      },
      "source": [
        "# fasttext inference\n",
        "from gensim.models import FastText\n",
        "\n",
        "# 모델 불러오기\n",
        "fasttext = FastText.load('fasttext_model')\n",
        "\n",
        "# 유사단어 찾기\n",
        "fasttext.wv.most_similar('이제까지')"
      ],
      "execution_count": null,
      "outputs": []
    },
    {
      "cell_type": "markdown",
      "metadata": {
        "id": "YZ2kQGNjwNwD"
      },
      "source": [
        "# 2. 이미 학습된 fasttext 이용\n",
        "\n",
        "페이스북에서 이미 학습한 결과를 이용    \n",
        "**RAM 사용량이 많습니다. colab pro(유료)의 고용량 RAM을 사용해야만 실행가능합니다.**"
      ]
    },
    {
      "cell_type": "code",
      "metadata": {
        "id": "d9pEPz2AwXFL"
      },
      "source": [
        "from gensim.test.utils import datapath\n",
        "from gensim.models import fasttext\n",
        "\n",
        "# gensim 설치\n",
        "!pip install --upgrade -q gensim==3.8.3\n",
        "\n",
        "# 모델 다운로드\n",
        "!wget https://dl.fbaipublicfiles.com/fasttext/vectors-crawl/cc.ko.300.bin.gz\n",
        "!gunzip cc.ko.300.bin.gz\n",
        "\n",
        "# 모델 로드\n",
        "fasttext = fasttext.load_facebook_model('cc.ko.300.bin')"
      ],
      "execution_count": null,
      "outputs": []
    },
    {
      "cell_type": "code",
      "metadata": {
        "id": "bpKLF56Wwzii"
      },
      "source": [
        "# word에서 word_minus를 빼고 word_plus를 더했을 때 나오는 결과를 표시합니다.\n",
        "\n",
        "word = '한국'\n",
        "word_minus = '서울'\n",
        "word_plus = '도쿄'\n",
        "\n",
        "fasttext.wv.most_similar(positive=[word, word_plus], negative=[word_minus], topn=3)"
      ],
      "execution_count": null,
      "outputs": []
    }
  ]
}