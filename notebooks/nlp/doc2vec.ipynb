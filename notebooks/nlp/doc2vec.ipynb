{
  "nbformat": 4,
  "nbformat_minor": 0,
  "metadata": {
    "colab": {
      "name": "doc2vec.ipynb",
      "provenance": [],
      "collapsed_sections": [],
      "authorship_tag": "ABX9TyP6d6vWsSPrYzUnGob8zygG",
      "include_colab_link": true
    },
    "kernelspec": {
      "name": "python3",
      "display_name": "Python 3"
    },
    "language_info": {
      "name": "python"
    }
  },
  "cells": [
    {
      "cell_type": "markdown",
      "metadata": {
        "id": "view-in-github",
        "colab_type": "text"
      },
      "source": [
        "<a href=\"https://colab.research.google.com/github/kiyoungkim1/ReadyToUseAI/blob/main/notebooks/nlp/doc2vec.ipynb\" target=\"_parent\"><img src=\"https://colab.research.google.com/assets/colab-badge.svg\" alt=\"Open In Colab\"/></a>"
      ]
    },
    {
      "cell_type": "markdown",
      "metadata": {
        "id": "NviblyEMKri2"
      },
      "source": [
        "# 환경 준비\n",
        "1. 라이브러리 다운로드\n",
        "2. 네이버 영화평을 텍스트파일을 다운로드합니다 (파일보기 +  새로고침 후 확인)\n",
        "\n",
        "**자체 데이터셋을 사용할 경우 한 문장이 한줄에 들어가는 파일(아래 예시 참조)로 dataset.txt로 저장 후 기존 파일을 덮어쓰기 하면 됩니다.**\n",
        "\n",
        "```\n",
        "영화가 재밌다.     \n",
        "이 영화 추천해요.     \n",
        "지루한 영화였습니다.\n",
        "...  \n",
        "```"
      ]
    },
    {
      "cell_type": "code",
      "metadata": {
        "id": "7VCOIASg7Lrf"
      },
      "source": [
        "!pip install --upgrade -q gensim==3.8.3\n",
        "!git clone https://github.com/kiyoungkim1/ReadyToUseAI\n",
        "\n",
        "from ReadyToUseAI.src.nlp import make_sample_dataset, doc2vec\n",
        "make_sample_dataset.nsmc(mode='test', text_only=True)"
      ],
      "execution_count": null,
      "outputs": []
    },
    {
      "cell_type": "markdown",
      "metadata": {
        "id": "jeDvl0o2FfkL"
      },
      "source": [
        "# [Training]\n",
        "샘플 데이터의 경우 약 25분 정도 걸림"
      ]
    },
    {
      "cell_type": "code",
      "metadata": {
        "id": "cy3u2IaM7FfB"
      },
      "source": [
        "doc2vec.apply(data_path='dataset.txt', save_name='doc2vec_model', size=150, window=5, min_count=3)"
      ],
      "execution_count": null,
      "outputs": []
    },
    {
      "cell_type": "markdown",
      "metadata": {
        "id": "VQqp1mFgKfY4"
      },
      "source": [
        "# [Inference]: 유사 문장 구하기"
      ]
    },
    {
      "cell_type": "code",
      "metadata": {
        "colab": {
          "base_uri": "https://localhost:8080/"
        },
        "id": "iR-WgM8KAU_r",
        "outputId": "f03a1b2c-c982-4735-b53d-f624b5a456a1"
      },
      "source": [
        "doc_index = 416\n",
        "doc2vec.get_similar_doc(doc_index, save_name='doc2vec_model')"
      ],
      "execution_count": 7,
      "outputs": [
        {
          "output_type": "stream",
          "text": [
            "target text: 눈물로 마무리 짓게 되는 영화:\n",
            " \n",
            "doc_id: 21825, score: 0.93, doc: 마음이 행복해지는 영화\n",
            "doc_id: 41355, score: 0.93, doc: 모든게 마음에 들었다.\n",
            "doc_id: 30732, score: 0.93, doc: 막판 정신이 멍하게 만드는 영화\n"
          ],
          "name": "stdout"
        }
      ]
    }
  ]
}