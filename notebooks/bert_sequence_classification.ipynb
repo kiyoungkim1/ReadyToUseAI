{
  "nbformat": 4,
  "nbformat_minor": 0,
  "metadata": {
    "colab": {
      "name": "bert_sequence_classification.ipynb",
      "provenance": [],
      "collapsed_sections": [],
      "toc_visible": true,
      "authorship_tag": "ABX9TyPvMxapJGRrom/NvO5s5kds",
      "include_colab_link": true
    },
    "kernelspec": {
      "name": "python3",
      "display_name": "Python 3"
    },
    "accelerator": "GPU"
  },
  "cells": [
    {
      "cell_type": "markdown",
      "metadata": {
        "id": "view-in-github",
        "colab_type": "text"
      },
      "source": [
        "<a href=\"https://colab.research.google.com/github/kiyoungkim1/ReadyToUseAI/blob/main/notebooks/bert_sequence_classification.ipynb\" target=\"_parent\"><img src=\"https://colab.research.google.com/assets/colab-badge.svg\" alt=\"Open In Colab\"/></a>"
      ]
    },
    {
      "cell_type": "markdown",
      "metadata": {
        "id": "EmJDckweJu_V"
      },
      "source": [
        "# 환경 준비\r\n",
        "1. 라이브러리 다운로드\r\n",
        "2. 네이버 영화평과 긍부정 데이터를 다운로드합니다 (파일보기 +  새로고침 후 확인)\r\n",
        "\r\n",
        "* 자체 데이터셋을 사용할 경우 내용과 카테고리가 각각 content와 label 열에 들어가는 파일(아래 예시 참조)로 dataset.xlsx로 저장 후 기존 파일을 덮어쓰기 하면 됩니다. \r\n",
        "* 엑셀파일의 label과 content의 순서는 상관없으나 label은 0부터 시작하는 숫자로 입력하면 좋습니다. 예를들어 카테고리가 4개면 label을 0, 1, 2, 3으로 표시해주세요.\r\n",
        "\r\n",
        "```\r\n",
        "label  content\r\n",
        "1      영화가 재밌다.     \r\n",
        "1      이 영화 추천해요.     \r\n",
        "0      지루한 영화였습니다.\r\n",
        "...  \r\n",
        "```"
      ]
    },
    {
      "cell_type": "code",
      "metadata": {
        "id": "ceUDoT3ZEfWB"
      },
      "source": [
        "!pip3 install -q transformers\r\n",
        "!git clone https://github.com/kiyoungkim1/ReadyToUseNlp\r\n",
        "\r\n",
        "from ReadyToUseNlp.src import make_sample_dataset, bert_sequence_classification\r\n",
        "make_sample_dataset.nsmc(mode='train', text_only=False)"
      ],
      "execution_count": null,
      "outputs": []
    },
    {
      "cell_type": "markdown",
      "metadata": {
        "id": "Y2150z24Na2-"
      },
      "source": [
        "# [Training] \r\n",
        "* 첨부된 샘플의 경우 약 두시간 소요\r\n",
        "* min_sentence_length보다 긴 문장만 사용합니다.\r\n",
        "* MAX_LEN은 모델이 인식하는 token의 길이로, 전체길이가 약 MAX_LEN의 2배보다 긴 문장은 뒷부분이 삭제됩니다 (예를들어 MAX_LEN = 128이면, 대략 길이가 256이상인 문장은 뒷부분이 무시됨).\r\n",
        "* batch_size는 한번에 몇개의 sample을 계산하는지를 나타내며, 제한된 메모리에서 MAX_LEN을 줄이면 batch_size를 키울 수 있고, MAX_LEN를 키우면 batch_size를 줄여야 합니다. \r\n",
        "* epochs는 데이터셋을 몇번 반복해서 학습할지 여부이며, dataset_split은 전체 데이터 중 몇 %를 검증용 데이터셋으로 사용할지 여부입니다."
      ]
    },
    {
      "cell_type": "code",
      "metadata": {
        "id": "JNkyff8jK9Av"
      },
      "source": [
        "CLS = bert_sequence_classification.Classification(model_name='kykim/bert-kor-base', min_sentence_length=10, MAX_LEN=128, batch_size=32, use_bert_tokenizer=True)\r\n",
        "CLS.dataset(data_path='dataset.xlsx')\r\n",
        "CLS.load_model(mode='train')\r\n",
        "CLS.train(epochs=3, dataset_split=0.1)"
      ],
      "execution_count": null,
      "outputs": []
    },
    {
      "cell_type": "markdown",
      "metadata": {
        "id": "mIiiPTYtOmcF"
      },
      "source": [
        "# [Inference]\n",
        "* sentences에 원하는 문장을 아래 형식과 같이 넣으면 해당하는 카테고리를 반환합니다.\n",
        "* saved_model_path는 학습된 모델이 저장된 '폴더명'입니다."
      ]
    },
    {
      "cell_type": "code",
      "metadata": {
        "id": "3jZ5DtJmNLr-"
      },
      "source": [
        "sentences = ['영화 재밌어요', '영화 재미없어요', '그냥 시간떼우기용', '완전 추천작']\r\n",
        "saved_model_path='model/saved/3'\r\n",
        "\r\n",
        "CLS = bert_sequence_classification.Classification(model_name='kykim/bert-kor-base', min_sentence_length=10, MAX_LEN=128, batch_size=16, use_bert_tokenizer=True)\r\n",
        "CLS.load_model(mode='inference', saved_model_path=saved_model_path)\r\n",
        "logit = CLS.inference(sentences=sentences)"
      ],
      "execution_count": null,
      "outputs": []
    }
  ]
}